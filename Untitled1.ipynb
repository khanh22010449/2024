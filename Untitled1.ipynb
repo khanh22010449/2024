{
 "cells": [
  {
   "cell_type": "code",
   "execution_count": 39,
   "id": "3d5df29b-795c-496c-8be5-11aefd2f68cb",
   "metadata": {},
   "outputs": [],
   "source": [
    "import numpy as np\n",
    "\n",
    "\n",
    "def has_converged(X, y, w):\n",
    "        return np.array_equal(np.sign(X.dot(w[-1])), y)"
   ]
  },
  {
   "cell_type": "code",
   "execution_count": 57,
   "id": "0317fa80-94fb-415e-a31d-1b261d0619a7",
   "metadata": {},
   "outputs": [],
   "source": [
    "def perceptron(X, y, w_init, max_iter=1000):\n",
    "    \"\"\"\n",
    "    X: ma trận dữ liệu (mỗi hàng là một điểm dữ liệu)\n",
    "    y: vector nhãn (1 hoặc -1)\n",
    "    w_init: vector trọng số khởi tạo\n",
    "    max_iter: số lần lặp tối đa\n",
    "    \"\"\"\n",
    "    w = [w_init]\n",
    "    mis_points = []  # Danh sách các điểm bị phân loại sai\n",
    "    for _ in range(max_iter):\n",
    "        mix_id = np.random.permutation(X.shape[0])\n",
    "        for i in mix_id:\n",
    "            xi = X[i]\n",
    "            yi = y[i]\n",
    "            if yi * np.dot(w[-1].T,xi) <= 0:\n",
    "                mis_points.append(mix_id[i])\n",
    "                w_new = w[-1] + xi\n",
    "                w.append(w_new)\n",
    "                if has_converged(X, y, w[-1]):\n",
    "                    break\n",
    "    return w, mis_points"
   ]
  },
  {
   "cell_type": "code",
   "execution_count": 54,
   "id": "403f9fc3-bda0-4f20-b679-86fb3bc4b3e4",
   "metadata": {},
   "outputs": [
    {
     "name": "stdout",
     "output_type": "stream",
     "text": [
      "[0 2 1 3]\n"
     ]
    }
   ],
   "source": [
    "X = np.array([[1, 2], [2, 3], [3, 4], [4, 5]])\n",
    "mix_id = np.random.permutation(X.shape[0])\n",
    "print(mix_id)"
   ]
  },
  {
   "cell_type": "code",
   "execution_count": 58,
   "id": "a94c96a3-7346-4123-94c7-59eda719c9a1",
   "metadata": {},
   "outputs": [
    {
     "ename": "ValueError",
     "evalue": "The truth value of an array with more than one element is ambiguous. Use a.any() or a.all()",
     "output_type": "error",
     "traceback": [
      "\u001b[1;31m---------------------------------------------------------------------------\u001b[0m",
      "\u001b[1;31mValueError\u001b[0m                                Traceback (most recent call last)",
      "Cell \u001b[1;32mIn[58], line 7\u001b[0m\n\u001b[0;32m      4\u001b[0m w_init \u001b[38;5;241m=\u001b[39m np\u001b[38;5;241m.\u001b[39mrandom\u001b[38;5;241m.\u001b[39mrandn(X\u001b[38;5;241m.\u001b[39mshape[\u001b[38;5;241m1\u001b[39m], \u001b[38;5;241m1\u001b[39m)\n\u001b[0;32m      6\u001b[0m \u001b[38;5;66;03m# Huấn luyện PLA\u001b[39;00m\n\u001b[1;32m----> 7\u001b[0m w_final, misclassified_points \u001b[38;5;241m=\u001b[39m \u001b[43mperceptron\u001b[49m\u001b[43m(\u001b[49m\u001b[43mX\u001b[49m\u001b[43m,\u001b[49m\u001b[43m \u001b[49m\u001b[43my\u001b[49m\u001b[43m,\u001b[49m\u001b[43m \u001b[49m\u001b[43mw_init\u001b[49m\u001b[43m)\u001b[49m\n\u001b[0;32m      9\u001b[0m \u001b[38;5;28mprint\u001b[39m(\u001b[38;5;124m\"\u001b[39m\u001b[38;5;124mVector trọng số cuối cùng:\u001b[39m\u001b[38;5;124m\"\u001b[39m, w_final[\u001b[38;5;241m-\u001b[39m\u001b[38;5;241m1\u001b[39m])\n\u001b[0;32m     10\u001b[0m \u001b[38;5;28mprint\u001b[39m(\u001b[38;5;124m\"\u001b[39m\u001b[38;5;124mCác điểm bị phân loại sai:\u001b[39m\u001b[38;5;124m\"\u001b[39m, misclassified_points)\n",
      "Cell \u001b[1;32mIn[57], line 15\u001b[0m, in \u001b[0;36mperceptron\u001b[1;34m(X, y, w_init, max_iter)\u001b[0m\n\u001b[0;32m     13\u001b[0m xi \u001b[38;5;241m=\u001b[39m X[i]\n\u001b[0;32m     14\u001b[0m yi \u001b[38;5;241m=\u001b[39m y[i]\n\u001b[1;32m---> 15\u001b[0m \u001b[38;5;28;01mif\u001b[39;00m yi \u001b[38;5;241m*\u001b[39m np\u001b[38;5;241m.\u001b[39mdot(w[\u001b[38;5;241m-\u001b[39m\u001b[38;5;241m1\u001b[39m]\u001b[38;5;241m.\u001b[39mT,xi) \u001b[38;5;241m<\u001b[39m\u001b[38;5;241m=\u001b[39m \u001b[38;5;241m0\u001b[39m:\n\u001b[0;32m     16\u001b[0m     mis_points\u001b[38;5;241m.\u001b[39mappend(mix_id[i])\n\u001b[0;32m     17\u001b[0m     w_new \u001b[38;5;241m=\u001b[39m w[\u001b[38;5;241m-\u001b[39m\u001b[38;5;241m1\u001b[39m] \u001b[38;5;241m+\u001b[39m xi\n",
      "\u001b[1;31mValueError\u001b[0m: The truth value of an array with more than one element is ambiguous. Use a.any() or a.all()"
     ]
    }
   ],
   "source": [
    "# Dữ liệu ví dụ\n",
    "X = np.array([[1, 2], [2, 3], [3, 4], [4, 5]])\n",
    "y = np.array([1, -1, 1, -1])\n",
    "w_init = np.random.randn(X.shape[1], 1)\n",
    "\n",
    "# Huấn luyện PLA\n",
    "w_final, misclassified_points = perceptron(X, y, w_init)\n",
    "\n",
    "print(\"Vector trọng số cuối cùng:\", w_final[-1])\n",
    "print(\"Các điểm bị phân loại sai:\", misclassified_points)"
   ]
  },
  {
   "cell_type": "code",
   "execution_count": null,
   "id": "fe84630f-2db0-4121-86c2-8b570cc7a2bc",
   "metadata": {},
   "outputs": [],
   "source": []
  }
 ],
 "metadata": {
  "kernelspec": {
   "display_name": "Python 3 (ipykernel)",
   "language": "python",
   "name": "python3"
  },
  "language_info": {
   "codemirror_mode": {
    "name": "ipython",
    "version": 3
   },
   "file_extension": ".py",
   "mimetype": "text/x-python",
   "name": "python",
   "nbconvert_exporter": "python",
   "pygments_lexer": "ipython3",
   "version": "3.12.2"
  }
 },
 "nbformat": 4,
 "nbformat_minor": 5
}
